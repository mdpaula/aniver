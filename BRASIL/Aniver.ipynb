{
 "cells": [
  {
   "cell_type": "code",
   "execution_count": 117,
   "metadata": {},
   "outputs": [],
   "source": [
    "import pandas as pd\n",
    "import datetime\n",
    "import smtplib\n",
    "from email.mime.multipart import MIMEMultipart\n",
    "from email.mime.text import MIMEText\n",
    "\n",
    "file_name = \"N:\\LATAM-SaoPaulo\\Department\\IS\\Aniver.xlsx\"\n",
    "\n",
    "# Lê o arquivo .xlsx em um DataFrame do Pandas\n",
    "df = pd.read_excel(file_name)\n",
    "\n",
    "# Agora 'df' contém os dados do arquivo Excel"
   ]
  },
  {
   "cell_type": "code",
   "execution_count": 114,
   "metadata": {},
   "outputs": [],
   "source": [
    "def enviaemail(df_aniver):\n",
    "\n",
    "    # Conecta ao servidor SMTP    \n",
    "    smtp_server = 'mail.oneguerbet-group.com'\n",
    "    smtp_user = 'aniversariantes@guerbet.com'\n",
    "    server = smtplib.SMTP(smtp_server, 25)\n",
    "      \n",
    "    for i, linha in df_aniver.iterrows():\n",
    "        msg = MIMEMultipart('alternative')\n",
    "        msg['Subject'] = 'Feliz Aniversário!'\n",
    "        msg['From'] = smtp_user\n",
    "        msg['To'] = linha['e-Mail']\n",
    "\n",
    "        # Escreva seu HTML aqui\n",
    "        html = f\"\"\"\\\n",
    "        <html>\n",
    "        <head></head>\n",
    "     \n",
    "        <body>\n",
    "            <div class=\"container\">\n",
    "            <p>Olá, bom dia!</p>\n",
    "            <p><h1>Feliz Aniversário {linha['Nome']}!</h1></p>\n",
    "            <p>Nossos Parabéns por seus {linha['Idade']} anos de idade! Desejamos a você tudo de melhor!</p>\n",
    "            <p>Com carinho,</p>\n",
    "            <p><img src=\"https://guerbetweb.azureedge.net/dist/assets/images/logo.svg?version=1.11.3\" alt=\"Guerbet\"></p>  \n",
    "        </body>\n",
    "\n",
    "        </html>\n",
    "        \"\"\"\n",
    "        \n",
    "        # Anexa o HTML à mensagem\n",
    "        msg.attach(MIMEText(html, 'html'))\n",
    "            \n",
    "        # Envia o e-mail\n",
    "        server.sendmail(smtp_user, linha['e-Mail'], msg.as_string())\n",
    "    \n",
    "    # Fecha a conexão com o servidor SMTP\n",
    "    server.quit()\n"
   ]
  },
  {
   "cell_type": "code",
   "execution_count": 92,
   "metadata": {},
   "outputs": [
    {
     "name": "stdout",
     "output_type": "stream",
     "text": [
      "               Nome                       e-Mail    Dt-Nasc  Idade\n",
      "0  Marcelo de Paula  marcelo.depaula@guerbet.com 1971-05-15     53\n"
     ]
    }
   ],
   "source": [
    "print(aniversarios_hoje.head())\n",
    "\n"
   ]
  },
  {
   "cell_type": "code",
   "execution_count": 93,
   "metadata": {},
   "outputs": [
    {
     "name": "stdout",
     "output_type": "stream",
     "text": [
      "Nome: Marcelo de Paula\n"
     ]
    }
   ],
   "source": [
    "\n",
    "for indice, linha in aniversarios_hoje.iterrows():\n",
    "    print(f\"Nome: {linha['Nome']}\")"
   ]
  },
  {
   "cell_type": "code",
   "execution_count": 94,
   "metadata": {},
   "outputs": [],
   "source": [
    "#Calcula idade\n",
    "\n",
    "def calc_idade(Dt_Nasc, Dt_Hoje):\n",
    "\n",
    "    idade = Dt_Hoje.year - Dt-Nasc.dt.year\n",
    "\n",
    "    return idade"
   ]
  },
  {
   "cell_type": "code",
   "execution_count": 40,
   "metadata": {},
   "outputs": [
    {
     "name": "stdout",
     "output_type": "stream",
     "text": [
      "               Nome                       e-Mail    Dt-Nasc\n",
      "0  Marcelo de Paula  marcelo.depaula@guerbet.com 1971-05-16\n"
     ]
    }
   ],
   "source": [
    "print(df.head())  # Exibe as primeiras 5 linhas do DataFrame"
   ]
  },
  {
   "cell_type": "code",
   "execution_count": 41,
   "metadata": {},
   "outputs": [
    {
     "name": "stdout",
     "output_type": "stream",
     "text": [
      "               Nome                       e-Mail    Dt-Nasc\n",
      "0  Marcelo de Paula  marcelo.depaula@guerbet.com 1971-05-16\n"
     ]
    }
   ],
   "source": [
    "# Converte campo para tipo date\n",
    "\n",
    "df['Dt-Nasc'] = pd.to_datetime(df['Dt-Nasc'], format='%d/%m/%Y')\n",
    "\n",
    "print(df.head())  # Exibe as primeiras 5 linhas do DataFrame"
   ]
  },
  {
   "cell_type": "code",
   "execution_count": 42,
   "metadata": {},
   "outputs": [
    {
     "name": "stdout",
     "output_type": "stream",
     "text": [
      "2024-05-15\n",
      "15\n",
      "5\n"
     ]
    }
   ],
   "source": [
    "# Carrega data de hoje dia e mes\n",
    "\n",
    "# Data de hoje\n",
    "hoje = datetime.date.today()\n",
    "print(hoje)\n",
    "\n",
    "dia = hoje.day\n",
    "mes = hoje.month\n",
    "print(dia)\n",
    "print(mes)\n"
   ]
  },
  {
   "cell_type": "code",
   "execution_count": 101,
   "metadata": {},
   "outputs": [],
   "source": [
    "# Calcula idade\n",
    "\n",
    "df['Idade'] = hoje.year - df['Dt-Nasc'].dt.year"
   ]
  },
  {
   "cell_type": "code",
   "execution_count": 115,
   "metadata": {},
   "outputs": [
    {
     "name": "stdout",
     "output_type": "stream",
     "text": [
      "               Nome                       e-Mail    Dt-Nasc  Idade\n",
      "0  Marcelo de Paula  marcelo.depaula@guerbet.com 1971-05-15     53\n",
      "1     Jose da Silva       marc.mdpaula@gmail.com 1989-05-15     35\n"
     ]
    }
   ],
   "source": [
    "# Filtra as linhas com aniversários hoje\n",
    "\n",
    "\n",
    "aniversarios_hoje = df[(df['Dt-Nasc'].dt.day == dia) & (df['Dt-Nasc'].dt.month == mes)]\n",
    "\n",
    "print(aniversarios_hoje.head())  # Exibe as primeiras 5 linhas do DataFrame\n",
    "\n"
   ]
  },
  {
   "cell_type": "code",
   "execution_count": 116,
   "metadata": {},
   "outputs": [],
   "source": [
    "if not aniversarios_hoje.empty:\n",
    "    # Envia os parabéns e imagens relacionadas ao tema por e-mail\n",
    "    # (implementação do envio de e-mail não está incluída aqui)\n",
    "    # print(\"Feliz aniversário de\", aniversarios_hoje['Idade'], \"anos para:\")\n",
    "    # print(aniversarios_hoje[['Nome', 'e-Mail']])\n",
    "    enviaemail(aniversarios_hoje)\n",
    "else:\n",
    "    print(\"Nenhum aniversário hoje.\")"
   ]
  },
  {
   "cell_type": "code",
   "execution_count": 118,
   "metadata": {},
   "outputs": [
    {
     "name": "stdout",
     "output_type": "stream",
     "text": [
      "Collecting pyinstaller\n",
      "  Downloading pyinstaller-6.6.0-py3-none-win_amd64.whl (1.3 MB)\n",
      "     ---------------------------------------- 1.3/1.3 MB 1.3 MB/s eta 0:00:00\n",
      "Collecting pywin32-ctypes>=0.2.1\n",
      "  Downloading pywin32_ctypes-0.2.2-py3-none-any.whl (30 kB)\n",
      "Collecting pyinstaller-hooks-contrib>=2024.3\n",
      "  Downloading pyinstaller_hooks_contrib-2024.6-py2.py3-none-any.whl (339 kB)\n",
      "     -------------------------------------- 339.2/339.2 kB 7.0 MB/s eta 0:00:00\n",
      "Requirement already satisfied: setuptools>=42.0.0 in c:\\users\\marcelo.depaula\\anaconda3\\lib\\site-packages (from pyinstaller) (63.4.1)\n",
      "Requirement already satisfied: importlib-metadata>=4.6 in c:\\users\\marcelo.depaula\\anaconda3\\lib\\site-packages (from pyinstaller) (4.11.3)\n",
      "Collecting pefile>=2022.5.30\n",
      "  Downloading pefile-2023.2.7-py3-none-any.whl (71 kB)\n",
      "     ---------------------------------------- 71.8/71.8 kB 1.9 MB/s eta 0:00:00\n",
      "Collecting packaging>=22.0\n",
      "  Downloading packaging-24.0-py3-none-any.whl (53 kB)\n",
      "     ---------------------------------------- 53.5/53.5 kB 2.7 MB/s eta 0:00:00\n",
      "Collecting altgraph\n",
      "  Downloading altgraph-0.17.4-py2.py3-none-any.whl (21 kB)\n",
      "Requirement already satisfied: zipp>=0.5 in c:\\users\\marcelo.depaula\\anaconda3\\lib\\site-packages (from importlib-metadata>=4.6->pyinstaller) (3.8.0)\n",
      "Installing collected packages: altgraph, pywin32-ctypes, pefile, packaging, pyinstaller-hooks-contrib, pyinstaller\n",
      "  Attempting uninstall: pywin32-ctypes\n",
      "    Found existing installation: pywin32-ctypes 0.2.0\n",
      "    Uninstalling pywin32-ctypes-0.2.0:\n",
      "      Successfully uninstalled pywin32-ctypes-0.2.0\n",
      "  Attempting uninstall: packaging\n",
      "    Found existing installation: packaging 21.3\n",
      "    Uninstalling packaging-21.3:\n",
      "      Successfully uninstalled packaging-21.3\n",
      "Successfully installed altgraph-0.17.4 packaging-24.0 pefile-2023.2.7 pyinstaller-6.6.0 pyinstaller-hooks-contrib-2024.6 pywin32-ctypes-0.2.2\n"
     ]
    }
   ],
   "source": [
    "!pip install pyinstaller"
   ]
  },
  {
   "cell_type": "code",
   "execution_count": 129,
   "metadata": {},
   "outputs": [
    {
     "name": "stdout",
     "output_type": "stream",
     "text": [
      "^C\n"
     ]
    },
    {
     "name": "stderr",
     "output_type": "stream",
     "text": [
      "2957 INFO: PyInstaller: 6.6.0, contrib hooks: 2024.6\n",
      "2957 INFO: Python: 3.9.13 (conda)\n",
      "3050 INFO: Platform: Windows-10-10.0.22631-SP0\n",
      "3078 INFO: wrote g:\\My Drive\\Guerbet\\Python\\Aniver\\Aniver.spec\n",
      "3094 INFO: Extending PYTHONPATH with paths\n",
      "['g:\\\\My Drive\\\\Guerbet\\\\Python\\\\Aniver']\n",
      "4214 INFO: checking Analysis\n",
      "5841 INFO: checking PYZ\n",
      "6128 INFO: checking PKG\n",
      "6160 INFO: Bootloader C:\\Users\\marcelo.depaula\\Anaconda3\\lib\\site-packages\\PyInstaller\\bootloader\\Windows-64bit-intel\\runw.exe\n",
      "6160 INFO: checking EXE\n",
      "6160 INFO: Building EXE because EXE-00.toc is non existent\n",
      "6160 INFO: Building EXE from EXE-00.toc\n",
      "6160 INFO: Copying bootloader EXE to g:\\My Drive\\Guerbet\\Python\\Aniver\\build\\Aniver\\Aniver.exe\n",
      "6394 INFO: Copying icon to EXE\n",
      "6575 INFO: Copying 0 resources to EXE\n",
      "6588 INFO: Embedding manifest in EXE\n",
      "6760 INFO: Appending PKG archive to EXE\n",
      "7077 INFO: Fixing EXE headers\n",
      "8879 INFO: Building EXE from EXE-00.toc completed successfully.\n",
      "9008 INFO: checking COLLECT\n",
      "9009 INFO: Building COLLECT because COLLECT-00.toc is non existent\n",
      "9030 INFO: Building COLLECT COLLECT-00.toc\n",
      "Traceback (most recent call last):\n",
      "  File \"C:\\Users\\marcelo.depaula\\Anaconda3\\lib\\runpy.py\", line 197, in _run_module_as_main\n",
      "    return _run_code(code, main_globals, None,\n",
      "  File \"C:\\Users\\marcelo.depaula\\Anaconda3\\lib\\runpy.py\", line 87, in _run_code\n",
      "    exec(code, run_globals)\n",
      "  File \"C:\\Users\\marcelo.depaula\\Anaconda3\\Scripts\\pyinstaller.exe\\__main__.py\", line 7, in <module>\n",
      "  File \"C:\\Users\\marcelo.depaula\\Anaconda3\\lib\\site-packages\\PyInstaller\\__main__.py\", line 228, in _console_script_run\n",
      "    run()\n",
      "  File \"C:\\Users\\marcelo.depaula\\Anaconda3\\lib\\site-packages\\PyInstaller\\__main__.py\", line 212, in run\n",
      "    run_build(pyi_config, spec_file, **vars(args))\n",
      "  File \"C:\\Users\\marcelo.depaula\\Anaconda3\\lib\\site-packages\\PyInstaller\\__main__.py\", line 69, in run_build\n",
      "    PyInstaller.building.build_main.main(pyi_config, spec_file, **kwargs)\n",
      "  File \"C:\\Users\\marcelo.depaula\\Anaconda3\\lib\\site-packages\\PyInstaller\\building\\build_main.py\", line 1186, in main\n",
      "    build(specfile, distpath, workpath, clean_build)\n",
      "  File \"C:\\Users\\marcelo.depaula\\Anaconda3\\lib\\site-packages\\PyInstaller\\building\\build_main.py\", line 1126, in build\n",
      "    exec(code, spec_namespace)\n",
      "  File \"g:\\My Drive\\Guerbet\\Python\\Aniver\\Aniver.spec\", line 36, in <module>\n",
      "  File \"C:\\Users\\marcelo.depaula\\Anaconda3\\lib\\site-packages\\PyInstaller\\building\\api.py\", line 1107, in __init__\n",
      "    self.__postinit__()\n",
      "  File \"C:\\Users\\marcelo.depaula\\Anaconda3\\lib\\site-packages\\PyInstaller\\building\\datastruct.py\", line 184, in __postinit__\n",
      "    self.assemble()\n",
      "  File \"C:\\Users\\marcelo.depaula\\Anaconda3\\lib\\site-packages\\PyInstaller\\building\\api.py\", line 1146, in assemble\n",
      "    os.makedirs(dest_dir, exist_ok=True)\n",
      "  File \"C:\\Users\\marcelo.depaula\\Anaconda3\\lib\\os.py\", line 225, in makedirs\n",
      "    mkdir(name, mode)\n",
      "FileNotFoundError: [WinError 3] The system cannot find the path specified: 'g:\\\\My Drive\\\\Guerbet\\\\Python\\\\Aniver\\\\dist\\\\Aniver\\\\_internal\\\\pytz\\\\zoneinfo\\\\Asia'\n"
     ]
    }
   ],
   "source": [
    "!pyinstaller -w Aniver.py"
   ]
  },
  {
   "cell_type": "code",
   "execution_count": 124,
   "metadata": {},
   "outputs": [
    {
     "name": "stdout",
     "output_type": "stream",
     "text": [
      "^C\n"
     ]
    }
   ],
   "source": [
    "!pip uninstall pathlib"
   ]
  },
  {
   "cell_type": "code",
   "execution_count": null,
   "metadata": {},
   "outputs": [],
   "source": []
  }
 ],
 "metadata": {
  "kernelspec": {
   "display_name": "base",
   "language": "python",
   "name": "python3"
  },
  "language_info": {
   "codemirror_mode": {
    "name": "ipython",
    "version": 3
   },
   "file_extension": ".py",
   "mimetype": "text/x-python",
   "name": "python",
   "nbconvert_exporter": "python",
   "pygments_lexer": "ipython3",
   "version": "3.9.13"
  }
 },
 "nbformat": 4,
 "nbformat_minor": 2
}
